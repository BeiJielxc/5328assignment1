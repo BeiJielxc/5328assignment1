import numpy as np

def L1_nmf(V, H, W, steps=3000, tol=1e-4, *,  # tol略放宽
           eps=1e-4,          # 稳定权重/分母，略放大
           omega_cap=1e3,     # 权重上限，避免过激
           alpha=0.5,         # 更新“降幂”=步长，0<alpha<=1
           floor=1e-12,       # 非负下限避免死列
           min_steps=100,     # 跑够一定步数再允许早停
           verbose=False):
    """Minimal but stabilized L1-NMF (IRLS + MU, few guards)."""
    V = np.maximum(np.asarray(V, float), floor)
    W = np.maximum(np.asarray(W, float), floor)
    H = np.maximum(np.asarray(H, float), floor)

    obj_prev = np.sum(np.abs(V - W @ H))

    for step in range(1, steps + 1):
        # IRLS权重：Ω = 1/(|E|+eps)，并裁顶
        E = V - (W @ H)
        Q = 1.0 / (np.abs(E) + eps)
        Q = np.minimum(Q, float(omega_cap))

        # --- 更新H（降幂 alpha 抑制过冲）---
        WH   = W @ H
        numH = W.T @ (Q * V)
        denH = W.T @ (Q * WH) + eps
        ratioH = numH / denH
        H = np.maximum(H * (ratioH ** alpha), floor)

        # --- 更新W（降幂 alpha）---
        WH   = W @ H
        numW = (Q * V) @ H.T
        denW = (Q * WH) @ H.T + eps
        ratioW = numW / denW
        W = np.maximum(W * (ratioW ** alpha), floor)

        # --- 列归一化W（稳尺度），尺度乘回H ---
        s = np.maximum(np.linalg.norm(W, axis=0), floor)
        W /= s
        H *= s[:, None]

        # --- 早停判据（相对改进）---
        obj = np.sum(np.abs(V - W @ H))
        rel = abs(obj_prev - obj) / (obj_prev + 1e-12)
        if verbose and step % 100 == 0:
            print(f"[L1-NMF] step={step:4d}  L1={obj:.6e}  rel={rel:.3e}")
        if (step >= min_steps) and (rel < tol):
            if verbose:
                print(f"[L1-NMF] Converged at step={step}, L1={obj:.6e}, rel={rel:.3e}")
            break
        obj_prev = obj

    return W, H, step
